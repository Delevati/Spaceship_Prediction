{
 "cells": [
  {
   "cell_type": "code",
   "execution_count": 55,
   "metadata": {},
   "outputs": [],
   "source": [
    "#1\n",
    "import pandas as pd\n",
    "from sklearn.model_selection import train_test_split\n",
    "from sklearn.preprocessing import StandardScaler\n",
    "from tensorflow.keras.models import Sequential\n",
    "from tensorflow.keras.layers import Dense, Dropout\n",
    "from tensorflow.keras.optimizers import Adam\n",
    "from tensorflow.keras import regularizers"
   ]
  },
  {
   "cell_type": "code",
   "execution_count": 56,
   "metadata": {},
   "outputs": [],
   "source": [
    "#2\n",
    "df = pd.read_csv('/Users/luryan/Documents/persona_project/spaceship-titanic/data/train.csv')\n",
    "\n",
    "# Feature engineering\n",
    "df['Homeplanet_Mars'] = df['HomePlanet'].apply(lambda x: 1 if x == 'Mars' else 0)\n",
    "df['Homeplanet_Earth'] = df['HomePlanet'].apply(lambda x: 1 if x == 'Earth' else 0)\n",
    "df['Homeplanet_Europa'] = df['HomePlanet'].apply(lambda x: 1 if x == 'Europa' else 0)\n",
    "\n",
    "if 'HomePlanet' in df.columns:\n",
    "    df = df.drop('HomePlanet', axis=1)\n",
    "\n",
    "df['Cabin_S'] = df['Cabin'].apply(lambda x: 1 if str(x).split('/')[-1] == 'S' else 0)\n",
    "df['Cabin_P'] = df['Cabin'].apply(lambda x: 1 if str(x).split('/')[-1] == 'P' else 0)\n",
    "\n",
    "if 'Cabin' in df.columns:\n",
    "    df = df.drop('Cabin', axis=1)\n",
    "\n",
    "drop = ['PassengerId', 'Destination', 'Name']\n",
    "df = df.drop(drop, axis=1)\n",
    "\n",
    "df = df.fillna(df.mean())\n",
    "\n",
    "coluna_alvo = 'Transported'\n",
    "\n",
    "X = df.drop(coluna_alvo, axis=1)\n",
    "y = df[coluna_alvo]\n",
    "\n",
    "# Padronizar os dados\n",
    "scaler = StandardScaler()\n",
    "X = scaler.fit_transform(X)\n",
    "\n",
    "# Dividir os dados em conjunto de treino e teste\n",
    "X_train, X_test, y_train, y_test = train_test_split(X, y, test_size=0.2, random_state=1)\n"
   ]
  },
  {
   "cell_type": "code",
   "execution_count": 57,
   "metadata": {},
   "outputs": [
    {
     "name": "stdout",
     "output_type": "stream",
     "text": [
      "Epoch 1/10\n",
      "313/313 [==============================] - 7s 8ms/step - loss: 2.0571 - accuracy: 0.7472 - val_loss: 0.1674 - val_accuracy: 0.8087\n",
      "Epoch 2/10\n",
      "313/313 [==============================] - 2s 7ms/step - loss: 0.1642 - accuracy: 0.7792 - val_loss: 0.1549 - val_accuracy: 0.7907\n",
      "Epoch 3/10\n",
      "313/313 [==============================] - 3s 11ms/step - loss: 0.1566 - accuracy: 0.7865 - val_loss: 0.1429 - val_accuracy: 0.8134\n",
      "Epoch 4/10\n",
      "313/313 [==============================] - 3s 11ms/step - loss: 0.1546 - accuracy: 0.7901 - val_loss: 0.1441 - val_accuracy: 0.8081\n",
      "Epoch 5/10\n",
      "313/313 [==============================] - 3s 10ms/step - loss: 0.1528 - accuracy: 0.7904 - val_loss: 0.1433 - val_accuracy: 0.8064\n",
      "Epoch 6/10\n",
      "313/313 [==============================] - 4s 14ms/step - loss: 0.1521 - accuracy: 0.7899 - val_loss: 0.1419 - val_accuracy: 0.8122\n",
      "Epoch 7/10\n",
      "313/313 [==============================] - 4s 14ms/step - loss: 0.1493 - accuracy: 0.7923 - val_loss: 0.1453 - val_accuracy: 0.8064\n",
      "Epoch 8/10\n",
      "313/313 [==============================] - 6s 19ms/step - loss: 0.1507 - accuracy: 0.7934 - val_loss: 0.1444 - val_accuracy: 0.8029\n",
      "Epoch 9/10\n",
      "313/313 [==============================] - 4s 12ms/step - loss: 0.1492 - accuracy: 0.7946 - val_loss: 0.1452 - val_accuracy: 0.7977\n",
      "Epoch 10/10\n",
      "313/313 [==============================] - 2s 6ms/step - loss: 0.1496 - accuracy: 0.7936 - val_loss: 0.1399 - val_accuracy: 0.8105\n",
      "54/54 [==============================] - 0s 3ms/step\n",
      "54/54 [==============================] - 0s 5ms/step - loss: 0.1399 - accuracy: 0.8105\n",
      "Acurácia do modelo: 0.8104650974273682\n",
      "Length of index: 8599\n",
      "Length of predictions: 1720\n"
     ]
    }
   ],
   "source": [
    "#3\n",
    "modelo = Sequential()\n",
    "modelo.add(Dense(128, activation='relu', input_shape=(X_train.shape[1],)))\n",
    "modelo.add(Dropout(0.3))\n",
    "modelo.add(Dense(32, activation='relu', kernel_regularizer=regularizers.l2(0.2), input_dim=100))\n",
    "modelo.add(Dense(64, activation='relu'))\n",
    "modelo.add(Dense(1, activation='sigmoid'))\n",
    "\n",
    "modelo.compile(optimizer=Adam(learning_rate=0.001), loss='mean_squared_error', metrics=['accuracy'])\n",
    "\n",
    "# Treinar o modelo\n",
    "modelo.fit(X_train, y_train, epochs=10, batch_size=22, validation_data=(X_test, y_test))\n",
    "\n",
    "# Fazer previsões\n",
    "predictions = modelo.predict(X_test)\n",
    "\n",
    "# Avaliar a acurácia do modelo\n",
    "_, acuracia = modelo.evaluate(X_test, y_test)\n",
    "print(f'Acurácia do modelo: {acuracia}')\n",
    "\n",
    "print(f'Length of index: {len(df.index)}')\n",
    "print(f'Length of predictions: {len(predictions)}')"
   ]
  },
  {
   "cell_type": "code",
   "execution_count": 58,
   "metadata": {},
   "outputs": [],
   "source": [
    "#4\n",
    "X_test_df = pd.DataFrame(X_test, columns=df.columns[:-1])  # Assuming the last column is the target variable\n",
    "final = pd.DataFrame({'PassengerId': df.loc[X_test_df.index].index, 'Transported': predictions.flatten() > 0.5})\n",
    "# final.to_csv('/Users/luryan/Documents/persona_project/spaceship-titanic/output_submission.csv', index=False)"
   ]
  },
  {
   "cell_type": "code",
   "execution_count": 59,
   "metadata": {},
   "outputs": [
    {
     "name": "stdout",
     "output_type": "stream",
     "text": [
      "134/134 [==============================] - 1s 4ms/step\n"
     ]
    }
   ],
   "source": [
    "#5\n",
    "test_df_submission = pd.read_csv('/Users/luryan/Documents/persona_project/spaceship-titanic/data/test.csv')\n",
    "\n",
    "test_df_submission['Homeplanet_Mars'] = test_df_submission['HomePlanet'].apply(lambda x: 1 if x == 'Mars' else 0)\n",
    "test_df_submission['Homeplanet_Earth'] = test_df_submission['HomePlanet'].apply(lambda x: 1 if x == 'Earth' else 0)\n",
    "test_df_submission['Homeplanet_Europa'] = test_df_submission['HomePlanet'].apply(lambda x: 1 if x == 'Europa' else 0)\n",
    "\n",
    "if 'HomePlanet' in test_df_submission.columns:\n",
    "    test_df_submission = test_df_submission.drop('HomePlanet', axis=1)\n",
    "\n",
    "test_df_submission['Cabin_S'] = test_df_submission['Cabin'].apply(lambda x: 1 if str(x).split('/')[-1] == 'S' else 0)\n",
    "test_df_submission['Cabin_P'] = test_df_submission['Cabin'].apply(lambda x: 1 if str(x).split('/')[-1] == 'P' else 0)\n",
    "\n",
    "if 'Cabin' in test_df_submission.columns:\n",
    "    test_df_submission = test_df_submission.drop('Cabin', axis=1)\n",
    "\n",
    "# Preencher valores ausentes em colunas específicas\n",
    "columns_to_fillna = ['Homeplanet_Mars', 'Homeplanet_Earth', 'Homeplanet_Europa', 'Cabin_S', 'Cabin_P']\n",
    "test_df_submission[columns_to_fillna] = test_df_submission[columns_to_fillna].fillna(0)  # Preencher com 0, você pode ajustar conforme necessário\n",
    "\n",
    "#6\n",
    "X_submission = scaler.transform(test_df_submission.drop(['PassengerId', 'Destination', 'Name'], axis=1))\n",
    "predictions_submission = modelo.predict(X_submission)\n",
    "n_predictions_submission = (predictions_submission > 0.5).astype(bool)\n",
    "\n",
    "# Criar DataFrame para submissão\n",
    "output_submission = pd.DataFrame({'PassengerId': test_df_submission['PassengerId'], 'Transported': n_predictions_submission.squeeze()})\n",
    "\n",
    "# Salvar DataFrame de submissão em arquivo CSV\n",
    "output_submission.to_csv('/Users/luryan/Documents/persona_project/spaceship-titanic/output_submission.csv', index=False)\n"
   ]
  },
  {
   "cell_type": "code",
   "execution_count": 60,
   "metadata": {},
   "outputs": [
    {
     "name": "stdout",
     "output_type": "stream",
     "text": [
      "54/54 [==============================] - 0s 3ms/step\n",
      "54/54 [==============================] - 0s 5ms/step - loss: 0.1399 - accuracy: 0.8105\n",
      "Acurácia do modelo: 0.8104650974273682\n",
      "Length of index: 8599\n",
      "Length of predictions: 1720\n"
     ]
    }
   ],
   "source": [
    "#6\n",
    "predictions = modelo.predict(X_test)\n",
    "\n",
    "_, acuracia = modelo.evaluate(X_test, y_test)\n",
    "print(f'Acurácia do modelo: {acuracia}')\n",
    "\n",
    "print(f'Length of index: {len(df.index)}')\n",
    "print(f'Length of predictions: {len(predictions)}')"
   ]
  }
 ],
 "metadata": {
  "kernelspec": {
   "display_name": "venv",
   "language": "python",
   "name": "python3"
  },
  "language_info": {
   "codemirror_mode": {
    "name": "ipython",
    "version": 3
   },
   "file_extension": ".py",
   "mimetype": "text/x-python",
   "name": "python",
   "nbconvert_exporter": "python",
   "pygments_lexer": "ipython3",
   "version": "3.11.4"
  }
 },
 "nbformat": 4,
 "nbformat_minor": 2
}
