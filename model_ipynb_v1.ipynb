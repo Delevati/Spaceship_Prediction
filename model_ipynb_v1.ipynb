{
 "cells": [
  {
   "cell_type": "code",
   "execution_count": 1,
   "metadata": {},
   "outputs": [
    {
     "name": "stderr",
     "output_type": "stream",
     "text": [
      "2024-01-18 09:39:46.736690: I tensorflow/core/platform/cpu_feature_guard.cc:182] This TensorFlow binary is optimized to use available CPU instructions in performance-critical operations.\n",
      "To enable the following instructions: AVX2 FMA, in other operations, rebuild TensorFlow with the appropriate compiler flags.\n"
     ]
    }
   ],
   "source": [
    "import pandas as pd\n",
    "from sklearn.model_selection import train_test_split\n",
    "from sklearn.preprocessing import StandardScaler\n",
    "from tensorflow.keras.models import Sequential\n",
    "from tensorflow.keras.layers import Dense\n",
    "from tensorflow.keras.layers import Dropout\n",
    "from tensorflow.keras.optimizers import Adam\n",
    "from tensorflow.keras import regularizers"
   ]
  },
  {
   "cell_type": "code",
   "execution_count": 11,
   "metadata": {},
   "outputs": [],
   "source": [
    "\n",
    "df = pd.read_csv('/Users/luryan/Documents/persona_project/spaceship-titanic/data/train.csv')"
   ]
  },
  {
   "cell_type": "code",
   "execution_count": 12,
   "metadata": {},
   "outputs": [
    {
     "data": {
      "text/html": [
       "<div>\n",
       "<style scoped>\n",
       "    .dataframe tbody tr th:only-of-type {\n",
       "        vertical-align: middle;\n",
       "    }\n",
       "\n",
       "    .dataframe tbody tr th {\n",
       "        vertical-align: top;\n",
       "    }\n",
       "\n",
       "    .dataframe thead th {\n",
       "        text-align: right;\n",
       "    }\n",
       "</style>\n",
       "<table border=\"1\" class=\"dataframe\">\n",
       "  <thead>\n",
       "    <tr style=\"text-align: right;\">\n",
       "      <th></th>\n",
       "      <th>PassengerId</th>\n",
       "      <th>HomePlanet</th>\n",
       "      <th>CryoSleep</th>\n",
       "      <th>Cabin</th>\n",
       "      <th>Destination</th>\n",
       "      <th>Age</th>\n",
       "      <th>VIP</th>\n",
       "      <th>RoomService</th>\n",
       "      <th>FoodCourt</th>\n",
       "      <th>ShoppingMall</th>\n",
       "      <th>Spa</th>\n",
       "      <th>VRDeck</th>\n",
       "      <th>Name</th>\n",
       "      <th>Transported</th>\n",
       "    </tr>\n",
       "  </thead>\n",
       "  <tbody>\n",
       "    <tr>\n",
       "      <th>0</th>\n",
       "      <td>0001_01</td>\n",
       "      <td>Europa</td>\n",
       "      <td>False</td>\n",
       "      <td>B/0/P</td>\n",
       "      <td>TRAPPIST-1e</td>\n",
       "      <td>39.0</td>\n",
       "      <td>False</td>\n",
       "      <td>0.0</td>\n",
       "      <td>0.0</td>\n",
       "      <td>0.0</td>\n",
       "      <td>0.0</td>\n",
       "      <td>0.0</td>\n",
       "      <td>Maham Ofracculy</td>\n",
       "      <td>False</td>\n",
       "    </tr>\n",
       "    <tr>\n",
       "      <th>1</th>\n",
       "      <td>0002_01</td>\n",
       "      <td>Earth</td>\n",
       "      <td>False</td>\n",
       "      <td>F/0/S</td>\n",
       "      <td>TRAPPIST-1e</td>\n",
       "      <td>24.0</td>\n",
       "      <td>False</td>\n",
       "      <td>109.0</td>\n",
       "      <td>9.0</td>\n",
       "      <td>25.0</td>\n",
       "      <td>549.0</td>\n",
       "      <td>44.0</td>\n",
       "      <td>Juanna Vines</td>\n",
       "      <td>True</td>\n",
       "    </tr>\n",
       "    <tr>\n",
       "      <th>2</th>\n",
       "      <td>0003_01</td>\n",
       "      <td>Europa</td>\n",
       "      <td>False</td>\n",
       "      <td>A/0/S</td>\n",
       "      <td>TRAPPIST-1e</td>\n",
       "      <td>58.0</td>\n",
       "      <td>True</td>\n",
       "      <td>43.0</td>\n",
       "      <td>3576.0</td>\n",
       "      <td>0.0</td>\n",
       "      <td>6715.0</td>\n",
       "      <td>49.0</td>\n",
       "      <td>Altark Susent</td>\n",
       "      <td>False</td>\n",
       "    </tr>\n",
       "    <tr>\n",
       "      <th>3</th>\n",
       "      <td>0003_02</td>\n",
       "      <td>Europa</td>\n",
       "      <td>False</td>\n",
       "      <td>A/0/S</td>\n",
       "      <td>TRAPPIST-1e</td>\n",
       "      <td>33.0</td>\n",
       "      <td>False</td>\n",
       "      <td>0.0</td>\n",
       "      <td>1283.0</td>\n",
       "      <td>371.0</td>\n",
       "      <td>3329.0</td>\n",
       "      <td>193.0</td>\n",
       "      <td>Solam Susent</td>\n",
       "      <td>False</td>\n",
       "    </tr>\n",
       "    <tr>\n",
       "      <th>4</th>\n",
       "      <td>0004_01</td>\n",
       "      <td>Earth</td>\n",
       "      <td>False</td>\n",
       "      <td>F/1/S</td>\n",
       "      <td>TRAPPIST-1e</td>\n",
       "      <td>16.0</td>\n",
       "      <td>False</td>\n",
       "      <td>303.0</td>\n",
       "      <td>70.0</td>\n",
       "      <td>151.0</td>\n",
       "      <td>565.0</td>\n",
       "      <td>2.0</td>\n",
       "      <td>Willy Santantines</td>\n",
       "      <td>True</td>\n",
       "    </tr>\n",
       "    <tr>\n",
       "      <th>...</th>\n",
       "      <td>...</td>\n",
       "      <td>...</td>\n",
       "      <td>...</td>\n",
       "      <td>...</td>\n",
       "      <td>...</td>\n",
       "      <td>...</td>\n",
       "      <td>...</td>\n",
       "      <td>...</td>\n",
       "      <td>...</td>\n",
       "      <td>...</td>\n",
       "      <td>...</td>\n",
       "      <td>...</td>\n",
       "      <td>...</td>\n",
       "      <td>...</td>\n",
       "    </tr>\n",
       "    <tr>\n",
       "      <th>8594</th>\n",
       "      <td>9174_01</td>\n",
       "      <td>Earth</td>\n",
       "      <td>False</td>\n",
       "      <td>G/1479/S</td>\n",
       "      <td>PSO J318.5-22</td>\n",
       "      <td>54.0</td>\n",
       "      <td>False</td>\n",
       "      <td>65.0</td>\n",
       "      <td>670.0</td>\n",
       "      <td>0.0</td>\n",
       "      <td>177.0</td>\n",
       "      <td>0.0</td>\n",
       "      <td>Teryla Lunapperts</td>\n",
       "      <td>True</td>\n",
       "    </tr>\n",
       "    <tr>\n",
       "      <th>8595</th>\n",
       "      <td>9175_01</td>\n",
       "      <td>Europa</td>\n",
       "      <td>False</td>\n",
       "      <td>B/299/P</td>\n",
       "      <td>55 Cancri e</td>\n",
       "      <td>32.0</td>\n",
       "      <td>False</td>\n",
       "      <td>0.0</td>\n",
       "      <td>10073.0</td>\n",
       "      <td>0.0</td>\n",
       "      <td>168.0</td>\n",
       "      <td>337.0</td>\n",
       "      <td>Sulaton Dectory</td>\n",
       "      <td>True</td>\n",
       "    </tr>\n",
       "    <tr>\n",
       "      <th>8596</th>\n",
       "      <td>9176_01</td>\n",
       "      <td>Earth</td>\n",
       "      <td>False</td>\n",
       "      <td>F/1773/S</td>\n",
       "      <td>TRAPPIST-1e</td>\n",
       "      <td>24.0</td>\n",
       "      <td>False</td>\n",
       "      <td>0.0</td>\n",
       "      <td>537.0</td>\n",
       "      <td>0.0</td>\n",
       "      <td>5.0</td>\n",
       "      <td>197.0</td>\n",
       "      <td>Willy Mcneiderson</td>\n",
       "      <td>True</td>\n",
       "    </tr>\n",
       "    <tr>\n",
       "      <th>8597</th>\n",
       "      <td>9178_01</td>\n",
       "      <td>Earth</td>\n",
       "      <td>False</td>\n",
       "      <td>F/1877/P</td>\n",
       "      <td>TRAPPIST-1e</td>\n",
       "      <td>53.0</td>\n",
       "      <td>False</td>\n",
       "      <td>49.0</td>\n",
       "      <td>584.0</td>\n",
       "      <td>0.0</td>\n",
       "      <td>0.0</td>\n",
       "      <td>70.0</td>\n",
       "      <td>Ernard Barnoldeney</td>\n",
       "      <td>False</td>\n",
       "    </tr>\n",
       "    <tr>\n",
       "      <th>8598</th>\n",
       "      <td>9179_01</td>\n",
       "      <td>Earth</td>\n",
       "      <td>True</td>\n",
       "      <td>G/1494/P</td>\n",
       "      <td>TRAPPIST-1e</td>\n",
       "      <td>26.0</td>\n",
       "      <td>False</td>\n",
       "      <td>0.0</td>\n",
       "      <td>0.0</td>\n",
       "      <td>0.0</td>\n",
       "      <td>0.0</td>\n",
       "      <td>0.0</td>\n",
       "      <td>Paulah Tranciams</td>\n",
       "      <td>True</td>\n",
       "    </tr>\n",
       "  </tbody>\n",
       "</table>\n",
       "<p>8599 rows × 14 columns</p>\n",
       "</div>"
      ],
      "text/plain": [
       "     PassengerId HomePlanet CryoSleep     Cabin    Destination   Age    VIP  \\\n",
       "0        0001_01     Europa     False     B/0/P    TRAPPIST-1e  39.0  False   \n",
       "1        0002_01      Earth     False     F/0/S    TRAPPIST-1e  24.0  False   \n",
       "2        0003_01     Europa     False     A/0/S    TRAPPIST-1e  58.0   True   \n",
       "3        0003_02     Europa     False     A/0/S    TRAPPIST-1e  33.0  False   \n",
       "4        0004_01      Earth     False     F/1/S    TRAPPIST-1e  16.0  False   \n",
       "...          ...        ...       ...       ...            ...   ...    ...   \n",
       "8594     9174_01      Earth     False  G/1479/S  PSO J318.5-22  54.0  False   \n",
       "8595     9175_01     Europa     False   B/299/P    55 Cancri e  32.0  False   \n",
       "8596     9176_01      Earth     False  F/1773/S    TRAPPIST-1e  24.0  False   \n",
       "8597     9178_01      Earth     False  F/1877/P    TRAPPIST-1e  53.0  False   \n",
       "8598     9179_01      Earth      True  G/1494/P    TRAPPIST-1e  26.0  False   \n",
       "\n",
       "      RoomService  FoodCourt  ShoppingMall     Spa  VRDeck  \\\n",
       "0             0.0        0.0           0.0     0.0     0.0   \n",
       "1           109.0        9.0          25.0   549.0    44.0   \n",
       "2            43.0     3576.0           0.0  6715.0    49.0   \n",
       "3             0.0     1283.0         371.0  3329.0   193.0   \n",
       "4           303.0       70.0         151.0   565.0     2.0   \n",
       "...           ...        ...           ...     ...     ...   \n",
       "8594         65.0      670.0           0.0   177.0     0.0   \n",
       "8595          0.0    10073.0           0.0   168.0   337.0   \n",
       "8596          0.0      537.0           0.0     5.0   197.0   \n",
       "8597         49.0      584.0           0.0     0.0    70.0   \n",
       "8598          0.0        0.0           0.0     0.0     0.0   \n",
       "\n",
       "                    Name  Transported  \n",
       "0        Maham Ofracculy        False  \n",
       "1           Juanna Vines         True  \n",
       "2          Altark Susent        False  \n",
       "3           Solam Susent        False  \n",
       "4      Willy Santantines         True  \n",
       "...                  ...          ...  \n",
       "8594   Teryla Lunapperts         True  \n",
       "8595     Sulaton Dectory         True  \n",
       "8596   Willy Mcneiderson         True  \n",
       "8597  Ernard Barnoldeney        False  \n",
       "8598    Paulah Tranciams         True  \n",
       "\n",
       "[8599 rows x 14 columns]"
      ]
     },
     "execution_count": 12,
     "metadata": {},
     "output_type": "execute_result"
    }
   ],
   "source": [
    "df"
   ]
  },
  {
   "cell_type": "code",
   "execution_count": 13,
   "metadata": {},
   "outputs": [],
   "source": [
    "\n",
    "\n",
    "# passenger_ids = df.loc[X_test.index, 'PassengerId']\n",
    "# submission_df = pd.DataFrame({'PassengerId': passenger_ids, 'Transported': predictions.flatten().round().astype(int)})\n",
    "# submission_df.to_csv('/kaggle/working/sample_submission.csv', index=False)\n",
    "\n",
    "df['Homeplanet_Mars'] = df['HomePlanet'].apply(lambda x: 1 if x == 'Mars' else 0)\n",
    "df['Homeplanet_Earth'] = df['HomePlanet'].apply(lambda x: 1 if x == 'Earth' else 0)\n",
    "df['Homeplanet_Europa'] = df['HomePlanet'].apply(lambda x: 1 if x == 'Europa' else 0)\n",
    "\n",
    "if 'HomePlanet' in df.columns:\n",
    "    df = df.drop('HomePlanet', axis=1)\n",
    "\n",
    "df['Cabin_S'] = df['Cabin'].apply(lambda x: 1 if str(x).split('/')[-1] == 'S' else 0)\n",
    "df['Cabin_P'] = df['Cabin'].apply(lambda x: 1 if str(x).split('/')[-1] == 'P' else 0)\n",
    "# df['Cabin'].fillna(df['Cabin_S', 'Cabin_P'].dropna().mean(), inplace=True)\n",
    "\n",
    "if 'Cabin' in df.columns:\n",
    "    df = df.drop('Cabin', axis=1)\n",
    "    \n",
    "drop = ['PassengerId', 'Destination', 'Name']\n",
    "df = df.drop(drop, axis=1)\n",
    "\n",
    "df = df.fillna(df.mean())\n",
    "\n",
    "coluna_alvo = 'Transported'\n",
    "\n",
    "X = df.drop(coluna_alvo, axis=1)\n",
    "y = df[coluna_alvo]\n",
    "# Padronizar os dados\n",
    "scaler = StandardScaler()\n",
    "X = scaler.fit_transform(X)\n",
    "# X_test = scaler.fit_transform(X_test)\n",
    "\n",
    "# Dividir os dados em conjunto de treino e teste\n",
    "# X_train, X_test, y_train, y_test = train_test_split(X, y, test_size=0.2, random_state=1)\n",
    "\n",
    "\n"
   ]
  },
  {
   "cell_type": "code",
   "execution_count": 14,
   "metadata": {},
   "outputs": [
    {
     "data": {
      "text/plain": [
       "array([[-0.75570844,  0.70898832, -0.15601523, ...,  1.75753253,\n",
       "        -0.98694416,  1.03347064],\n",
       "       [-0.75570844, -0.33656332, -0.15601523, ..., -0.56897951,\n",
       "         1.01322855, -0.96761336],\n",
       "       [-0.75570844,  2.03335373,  6.56304058, ...,  1.75753253,\n",
       "         1.01322855, -0.96761336],\n",
       "       ...,\n",
       "       [-0.75570844, -0.33656332, -0.15601523, ..., -0.56897951,\n",
       "         1.01322855, -0.96761336],\n",
       "       [-0.75570844,  1.68483651, -0.15601523, ..., -0.56897951,\n",
       "        -0.98694416,  1.03347064],\n",
       "       [ 1.35654828, -0.19715644, -0.15601523, ..., -0.56897951,\n",
       "        -0.98694416,  1.03347064]])"
      ]
     },
     "execution_count": 14,
     "metadata": {},
     "output_type": "execute_result"
    }
   ],
   "source": [
    "X"
   ]
  },
  {
   "cell_type": "code",
   "execution_count": 9,
   "metadata": {},
   "outputs": [
    {
     "ename": "AttributeError",
     "evalue": "'numpy.ndarray' object has no attribute 'iloc'",
     "output_type": "error",
     "traceback": [
      "\u001b[0;31m---------------------------------------------------------------------------\u001b[0m",
      "\u001b[0;31mAttributeError\u001b[0m                            Traceback (most recent call last)",
      "Cell \u001b[0;32mIn[9], line 1\u001b[0m\n\u001b[0;32m----> 1\u001b[0m X_train \u001b[38;5;241m=\u001b[39m \u001b[43mX\u001b[49m\u001b[38;5;241;43m.\u001b[39;49m\u001b[43miloc\u001b[49m[:\u001b[38;5;28mint\u001b[39m(\u001b[38;5;241m4\u001b[39m\u001b[38;5;241m*\u001b[39m\u001b[38;5;28mlen\u001b[39m(X)\u001b[38;5;241m/\u001b[39m\u001b[38;5;241m5\u001b[39m)]\n\u001b[1;32m      2\u001b[0m X_test \u001b[38;5;241m=\u001b[39m X[\u001b[38;5;28mint\u001b[39m(\u001b[38;5;241m4\u001b[39m\u001b[38;5;241m*\u001b[39m\u001b[38;5;28mlen\u001b[39m(X)\u001b[38;5;241m/\u001b[39m\u001b[38;5;241m5\u001b[39m):]\n",
      "\u001b[0;31mAttributeError\u001b[0m: 'numpy.ndarray' object has no attribute 'iloc'"
     ]
    }
   ],
   "source": [
    "X_train = X.iloc[:int(4*len(X)/5)]\n",
    "X_test = X[int(4*len(X)/5):]\n"
   ]
  },
  {
   "cell_type": "code",
   "execution_count": 8,
   "metadata": {},
   "outputs": [
    {
     "data": {
      "text/plain": [
       "array([[-0.75570844,  0.70898832, -0.15601523, ...,  1.75753253,\n",
       "        -0.98694416,  1.03347064],\n",
       "       [-0.75570844, -0.33656332, -0.15601523, ..., -0.56897951,\n",
       "         1.01322855, -0.96761336],\n",
       "       [-0.75570844,  2.03335373,  6.56304058, ...,  1.75753253,\n",
       "         1.01322855, -0.96761336],\n",
       "       ...,\n",
       "       [-0.75570844, -0.82448742, -0.15601523, ..., -0.56897951,\n",
       "         1.01322855, -0.96761336],\n",
       "       [ 1.35654828,  0.63928488, -0.15601523, ...,  1.75753253,\n",
       "        -0.98694416,  1.03347064],\n",
       "       [-0.75570844,  0.3604711 , -0.15601523, ..., -0.56897951,\n",
       "        -0.98694416,  1.03347064]])"
      ]
     },
     "execution_count": 8,
     "metadata": {},
     "output_type": "execute_result"
    }
   ],
   "source": [
    "X_train"
   ]
  },
  {
   "cell_type": "code",
   "execution_count": null,
   "metadata": {},
   "outputs": [],
   "source": [
    "y_train = X_train.Transported\n",
    "y_test = X_test.Transported"
   ]
  },
  {
   "cell_type": "code",
   "execution_count": 5,
   "metadata": {},
   "outputs": [
    {
     "data": {
      "text/plain": [
       "array([[ 1.35654828, -0.61537709, -0.15601523, ..., -0.56897951,\n",
       "         1.01322855, -0.96761336],\n",
       "       [-0.75570844, -0.05774955, -0.15601523, ...,  1.75753253,\n",
       "        -0.98694416,  1.03347064],\n",
       "       [-0.75570844,  2.10305717, -0.15601523, ..., -0.56897951,\n",
       "         1.01322855, -0.96761336],\n",
       "       ...,\n",
       "       [-0.75570844,  0.49987799, -0.15601523, ...,  1.75753253,\n",
       "         1.01322855, -0.96761336],\n",
       "       [ 1.35654828,  0.43017455, -0.15601523, ..., -0.56897951,\n",
       "         1.01322855, -0.96761336],\n",
       "       [ 1.35654828, -1.80033562, -0.15601523, ..., -0.56897951,\n",
       "        -0.98694416,  1.03347064]])"
      ]
     },
     "execution_count": 5,
     "metadata": {},
     "output_type": "execute_result"
    }
   ],
   "source": [
    "X_test"
   ]
  },
  {
   "cell_type": "code",
   "execution_count": 6,
   "metadata": {},
   "outputs": [],
   "source": [
    "# # Padronizar os dados\n",
    "# scaler = StandardScaler()\n",
    "# X_train = scaler.fit_transform(X_train)\n",
    "# X_test = scaler.fit_transform(X_test)"
   ]
  },
  {
   "cell_type": "code",
   "execution_count": 8,
   "metadata": {},
   "outputs": [],
   "source": [
    "modelo = Sequential()\n",
    "modelo.add(Dense(128, activation='relu', input_shape=(X_train.shape[1],)))\n",
    "modelo.add(Dropout(0.3))\n",
    "modelo.add(Dense(32, activation='relu', kernel_regularizer=regularizers.l2(0.2), input_dim=100))\n",
    "modelo.add(Dense(64, activation='relu'))\n",
    "modelo.add(Dense(1, activation='sigmoid'))"
   ]
  },
  {
   "cell_type": "code",
   "execution_count": 9,
   "metadata": {},
   "outputs": [
    {
     "name": "stdout",
     "output_type": "stream",
     "text": [
      "Epoch 1/10\n",
      "313/313 [==============================] - 3s 4ms/step - loss: 1.9943 - accuracy: 0.7428 - val_loss: 0.1764 - val_accuracy: 0.7924\n",
      "Epoch 2/10\n",
      "313/313 [==============================] - 1s 3ms/step - loss: 0.1639 - accuracy: 0.7777 - val_loss: 0.1469 - val_accuracy: 0.8058\n",
      "Epoch 3/10\n",
      "313/313 [==============================] - 1s 3ms/step - loss: 0.1574 - accuracy: 0.7862 - val_loss: 0.1508 - val_accuracy: 0.8006\n",
      "Epoch 4/10\n",
      "313/313 [==============================] - 1s 3ms/step - loss: 0.1554 - accuracy: 0.7833 - val_loss: 0.1425 - val_accuracy: 0.8134\n",
      "Epoch 5/10\n",
      "313/313 [==============================] - 1s 3ms/step - loss: 0.1518 - accuracy: 0.7910 - val_loss: 0.1449 - val_accuracy: 0.8087\n",
      "Epoch 6/10\n",
      "313/313 [==============================] - 1s 3ms/step - loss: 0.1507 - accuracy: 0.7917 - val_loss: 0.1406 - val_accuracy: 0.8151\n",
      "Epoch 7/10\n",
      "313/313 [==============================] - 1s 3ms/step - loss: 0.1496 - accuracy: 0.7944 - val_loss: 0.1455 - val_accuracy: 0.8052\n",
      "Epoch 8/10\n",
      "313/313 [==============================] - 1s 3ms/step - loss: 0.1487 - accuracy: 0.7950 - val_loss: 0.1413 - val_accuracy: 0.8110\n",
      "Epoch 9/10\n",
      "313/313 [==============================] - 1s 3ms/step - loss: 0.1487 - accuracy: 0.7950 - val_loss: 0.1402 - val_accuracy: 0.8110\n",
      "Epoch 10/10\n",
      "313/313 [==============================] - 1s 3ms/step - loss: 0.1483 - accuracy: 0.7939 - val_loss: 0.1379 - val_accuracy: 0.8140\n"
     ]
    },
    {
     "data": {
      "text/plain": [
       "<keras.src.callbacks.History at 0x1397ffb10>"
      ]
     },
     "execution_count": 9,
     "metadata": {},
     "output_type": "execute_result"
    }
   ],
   "source": [
    "modelo.compile(optimizer=Adam(learning_rate=0.001), loss='mean_squared_error', metrics=['accuracy'])\n",
    "\n",
    "# Treinar o modelo\n",
    "modelo.fit(X_train, y_train, epochs=10, batch_size=22, validation_data=(X_test, y_test))"
   ]
  },
  {
   "cell_type": "code",
   "execution_count": 10,
   "metadata": {},
   "outputs": [
    {
     "name": "stdout",
     "output_type": "stream",
     "text": [
      "54/54 [==============================] - 0s 2ms/step\n",
      "54/54 [==============================] - 0s 2ms/step - loss: 0.1379 - accuracy: 0.8140\n",
      "Acurácia do modelo: 0.8139534592628479\n",
      "Length of index: 8599\n",
      "Length of predictions: 1720\n"
     ]
    }
   ],
   "source": [
    "predictions = modelo.predict(X_test)\n",
    "\n",
    "_, acuracia = modelo.evaluate(X_test, y_test)\n",
    "print(f'Acurácia do modelo: {acuracia}')\n",
    "\n",
    "print(f'Length of index: {len(df.index)}')\n",
    "print(f'Length of predictions: {len(predictions)}')\n",
    "\n",
    "# Create the DataFrame with 'PassengerId' and 'Transported' columns\n"
   ]
  },
  {
   "cell_type": "code",
   "execution_count": 11,
   "metadata": {},
   "outputs": [
    {
     "data": {
      "text/plain": [
       "array([[ 1.35654828, -0.61537709, -0.15601523, ..., -0.56897951,\n",
       "        -0.98694416,  1.03347064],\n",
       "       [ 1.35654828, -0.12745299,  6.56304058, ...,  1.75753253,\n",
       "        -0.98694416,  1.03347064],\n",
       "       [ 1.35654828, -0.26685988, -0.15601523, ...,  1.75753253,\n",
       "         1.01322855, -0.96761336],\n",
       "       ...,\n",
       "       [-0.75570844, -0.33656332, -0.15601523, ..., -0.56897951,\n",
       "        -0.98694416,  1.03347064],\n",
       "       [ 1.35654828,  1.26661586, -0.15601523, ..., -0.56897951,\n",
       "        -0.98694416,  1.03347064],\n",
       "       [-0.75570844,  0.08165733, -0.15601523, ..., -0.56897951,\n",
       "        -0.98694416,  1.03347064]])"
      ]
     },
     "execution_count": 11,
     "metadata": {},
     "output_type": "execute_result"
    }
   ],
   "source": [
    "X_train"
   ]
  },
  {
   "cell_type": "code",
   "execution_count": 12,
   "metadata": {},
   "outputs": [
    {
     "ename": "AttributeError",
     "evalue": "'numpy.ndarray' object has no attribute 'index'",
     "output_type": "error",
     "traceback": [
      "\u001b[0;31m---------------------------------------------------------------------------\u001b[0m",
      "\u001b[0;31mAttributeError\u001b[0m                            Traceback (most recent call last)",
      "Cell \u001b[0;32mIn[12], line 1\u001b[0m\n\u001b[0;32m----> 1\u001b[0m final \u001b[38;5;241m=\u001b[39m pd\u001b[38;5;241m.\u001b[39mDataFrame({\u001b[38;5;124m'\u001b[39m\u001b[38;5;124mPassengerId\u001b[39m\u001b[38;5;124m'\u001b[39m: \u001b[43mX_test\u001b[49m\u001b[38;5;241;43m.\u001b[39;49m\u001b[43mindex\u001b[49m, \u001b[38;5;124m'\u001b[39m\u001b[38;5;124mTransported\u001b[39m\u001b[38;5;124m'\u001b[39m: predictions\u001b[38;5;241m.\u001b[39mflatten() \u001b[38;5;241m>\u001b[39m \u001b[38;5;241m0.5\u001b[39m})\n\u001b[1;32m      3\u001b[0m \u001b[38;5;66;03m# Save the DataFrame to a CSV file\u001b[39;00m\n\u001b[1;32m      4\u001b[0m final\u001b[38;5;241m.\u001b[39mto_csv(\u001b[38;5;124m'\u001b[39m\u001b[38;5;124m/Users/luryan/Documents/persona_project/spaceship-titanic/outputssubmission.csv\u001b[39m\u001b[38;5;124m'\u001b[39m, index\u001b[38;5;241m=\u001b[39m\u001b[38;5;28;01mFalse\u001b[39;00m)\n",
      "\u001b[0;31mAttributeError\u001b[0m: 'numpy.ndarray' object has no attribute 'index'"
     ]
    }
   ],
   "source": [
    "final = pd.DataFrame({'PassengerId': X_test.index, 'Transported': predictions.flatten() > 0.5})\n",
    "\n",
    "# Save the DataFrame to a CSV file\n",
    "final.to_csv('/Users/luryan/Documents/persona_project/spaceship-titanic/outputssubmission.csv', index=False)"
   ]
  },
  {
   "cell_type": "code",
   "execution_count": null,
   "metadata": {},
   "outputs": [],
   "source": [
    "# _, acuracia = modelo.evaluate(X_test, y_test)\n",
    "# modelo.save('/kaggle/input/spaceship-titanic/sample_submission.csv')\n",
    "# print(f'Acurácia do modelo: {acuracia}')"
   ]
  }
 ],
 "metadata": {
  "kernelspec": {
   "display_name": "venv",
   "language": "python",
   "name": "python3"
  },
  "language_info": {
   "codemirror_mode": {
    "name": "ipython",
    "version": 3
   },
   "file_extension": ".py",
   "mimetype": "text/x-python",
   "name": "python",
   "nbconvert_exporter": "python",
   "pygments_lexer": "ipython3",
   "version": "3.11.4"
  }
 },
 "nbformat": 4,
 "nbformat_minor": 2
}
